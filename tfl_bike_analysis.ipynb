{
 "cells": [
  {
   "attachments": {},
   "cell_type": "markdown",
   "metadata": {},
   "source": [
    "# TFL Bike data Analysis"
   ]
  },
  {
   "attachments": {},
   "cell_type": "markdown",
   "metadata": {},
   "source": [
    "#### Exploratory data analysis as part of my MSc thesis, \"Using machine learning to predict Transport for London bike sharing habits in the post COVID-19 era\"."
   ]
  },
  {
   "attachments": {},
   "cell_type": "markdown",
   "metadata": {},
   "source": [
    "The following code for downloading the data has been adopted from [Markus Hauru's](https://github.com/mhauru) analysis, 'Predicting Boris Bike usage'.\n",
    "\n"
   ]
  },
  {
   "cell_type": "code",
   "execution_count": 24,
   "metadata": {},
   "outputs": [],
   "source": [
    "# importing libraries\n",
    "\n",
    "import os\n",
    "import pickle\n",
    "import requests\n",
    "import zipfile\n",
    "import pandas as pd\n",
    "import numpy as np\n",
    "import scipy as sp\n",
    "import statsmodels.api as sm\n",
    "from sklearn import linear_model, svm, neighbors, tree\n",
    "from matplotlib import pyplot as plt\n",
    "import matplotlib\n",
    "import seaborn as sns\n",
    "from pathlib import Path\n",
    "from timeit import default_timer as timer\n",
    "from IPython.display import set_matplotlib_formats\n",
    "from urllib.parse import urlparse\n",
    "\n",
    "try:\n",
    "    import xlrd\n",
    "except Exception as e:\n",
    "    msg = (\n",
    "        \"Please install the package xlrd: `pip install --user xlrd`\"\n",
    "        \"It's an optional requirement for pandas, and we'll be needing it.\"\n",
    "    )\n",
    "    print(msg)\n",
    "    raise e"
   ]
  },
  {
   "cell_type": "code",
   "execution_count": 25,
   "metadata": {},
   "outputs": [
    {
     "name": "stderr",
     "output_type": "stream",
     "text": [
      "C:\\Users\\EMoses\\AppData\\Local\\Temp\\ipykernel_10704\\3312271832.py:4: DeprecationWarning: `set_matplotlib_formats` is deprecated since IPython 7.23, directly use `matplotlib_inline.backend_inline.set_matplotlib_formats()`\n",
      "  set_matplotlib_formats(\"svg\")\n"
     ]
    }
   ],
   "source": [
    "# For pretty and exportable matplotlib plots.\n",
    "# If you are running this yourself and want interactivity,\n",
    "# try `%matplotlib widget` instead.\n",
    "set_matplotlib_formats(\"svg\")\n",
    "%matplotlib inline\n",
    "# %matplotlib widget\n",
    "# Set a consistent plotting style across the notebook using Seaborn.\n",
    "sns.set_style(\"darkgrid\")\n",
    "sns.set_context(\"notebook\")\n",
    "# Make pandas cooperate with pyplot\n",
    "pd.plotting.register_matplotlib_converters()\n"
   ]
  },
  {
   "attachments": {},
   "cell_type": "markdown",
   "metadata": {},
   "source": [
    "1. Processing and cleaning the bike data\n",
    "Before getting anywhere with it, we'll need to process the bike data quite a bit. The data comes in CSV files, each of which covers a period of time. Up first, we need to download the data from the TfL website. If you are running this code yourself, here's a script that does that. Be warned though, it's almost seven gigs of data. You can run it repeatedly, and it'll only download data that it doesn't have already."
   ]
  },
  {
   "cell_type": "code",
   "execution_count": 26,
   "metadata": {},
   "outputs": [],
   "source": [
    "bikefolder = \"data/bikes\""
   ]
  },
  {
   "cell_type": "code",
   "execution_count": 27,
   "metadata": {},
   "outputs": [],
   "source": [
    "def download_file(datafolder, url, verbosity=0):\n",
    "    \"\"\"Download the data from the given URL into the datafolder, unless it's\n",
    "    already there. Return path to downloaded file.\n",
    "    \"\"\"\n",
    "    datafolder = Path(datafolder)\n",
    "    datafolder.mkdir(parents=True, exist_ok=True)\n",
    "\n",
    "    a = urlparse(url)\n",
    "    filename = Path(os.path.basename(a.path))\n",
    "    filepath = datafolder / filename\n",
    "    # Don't redownload if we already have this file.\n",
    "    if filepath.exists():\n",
    "        if verbosity > 1:\n",
    "            print(\"Already have {}\".format(filename))\n",
    "    else:\n",
    "        if verbosity > 0:\n",
    "            print(\"Downloading {}\".format(filename))\n",
    "        rqst = requests.get(url)\n",
    "        rqst.raise_for_status()\n",
    "        with open(filepath, \"wb\") as f:\n",
    "            f.write(rqst.content)\n",
    "    return filepath\n"
   ]
  },
  {
   "cell_type": "code",
   "execution_count": 30,
   "metadata": {},
   "outputs": [
    {
     "name": "stdout",
     "output_type": "stream",
     "text": [
      "Converting .xlsx to .csv.\n"
     ]
    }
   ],
   "source": [
    "# Adjust whether to print progress reports of the downloads.\n",
    "# verbosity=0 is silence, verbosity=1 reports only when actually doing things,\n",
    "# verbosity>1 also reports when there's nothing to do.\n",
    "verbosity = 1\n",
    "\n",
    "# Most files are individual CSV files, listed in bike_data_urls.txt. Download\n",
    "# them.\n",
    "urlsfile = \"data/bikes/bike_data_urls.txt\"\n",
    "with open(urlsfile, \"r\") as f:\n",
    "    urls = f.read().splitlines()\n",
    "# There are a few comments in the file, marked by lines starting with #.\n",
    "# Filter them out.\n",
    "urls = [u for u in urls if u[0] != \"#\"]\n",
    "for url in urls:\n",
    "    download_file(bikefolder, url, verbosity)\n",
    "\n",
    "# The early years come in zips. Download and unzip them.\n",
    "zipsfolder = Path(\"data/bikes/bikezips\")\n",
    "bikezipurls = [\n",
    "    \"https://cycling.data.tfl.gov.uk/usage-stats/cyclehireusagestats-2012.zip\",\n",
    "    \"https://cycling.data.tfl.gov.uk/usage-stats/cyclehireusagestats-2013.zip\",\n",
    "    \"https://cycling.data.tfl.gov.uk/usage-stats/cyclehireusagestats-2014.zip\",\n",
    "    \"https://cycling.data.tfl.gov.uk/usage-stats/2015TripDatazip.zip\",\n",
    "    \"https://cycling.data.tfl.gov.uk/usage-stats/2016TripDataZip.zip\",\n",
    "]\n",
    "# A list of CSV files that are already there. Only unzip if some of the files\n",
    "# in the zip aren't present already.\n",
    "current_csvs = sorted(os.listdir(bikefolder))\n",
    "for url in bikezipurls:\n",
    "    zippath = download_file(zipsfolder, url, verbosity)\n",
    "    with zipfile.ZipFile(zippath, \"r\") as z:\n",
    "        namelist = z.namelist()\n",
    "        has_been_extracted = any(name not in current_csvs for name in namelist)\n",
    "        if has_been_extracted:\n",
    "            if verbosity > 0:\n",
    "                print(\"Unzipping {}\".format(zippath))\n",
    "            z.extractall(bikefolder)\n",
    "        else:\n",
    "            if verbosity > 1:\n",
    "                print(\"{} has already been extracted.\".format(zippath))\n",
    "\n",
    "# Finally, there's an odd one out: One week's data comes in as an .xlsx.\n",
    "# Download it and use pandas to convert it to csv.\n",
    "xlsxurl = \"https://cycling.data.tfl.gov.uk/usage-stats/49JourneyDataExtract15Mar2017-21Mar2017.xlsx\"\n",
    "xlsxfile = download_file(bikefolder, xlsxurl)\n",
    "csvfile = xlsxfile.with_suffix(\".csv\")\n",
    "if not csvfile.exists():\n",
    "    if verbosity > 0:\n",
    "        print(\"Converting .xlsx to .csv.\")\n",
    "    pd.read_excel(xlsxfile).to_csv(csvfile, date_format=\"%d/%m/%Y %H:%M:%S\")\n",
    "else:\n",
    "    if verbosity > 1:\n",
    "        print(\"Already have {}\".format(csvfile))"
   ]
  },
  {
   "attachments": {},
   "cell_type": "markdown",
   "metadata": {},
   "source": [
    "The data we have now lists on each line of the CSV file a single bike trip, with starting point and time, end point and time, and things like bike ID number. Here's an example."
   ]
  },
  {
   "cell_type": "code",
   "execution_count": 31,
   "metadata": {},
   "outputs": [
    {
     "data": {
      "text/html": [
       "<div>\n",
       "<style scoped>\n",
       "    .dataframe tbody tr th:only-of-type {\n",
       "        vertical-align: middle;\n",
       "    }\n",
       "\n",
       "    .dataframe tbody tr th {\n",
       "        vertical-align: top;\n",
       "    }\n",
       "\n",
       "    .dataframe thead th {\n",
       "        text-align: right;\n",
       "    }\n",
       "</style>\n",
       "<table border=\"1\" class=\"dataframe\">\n",
       "  <thead>\n",
       "    <tr style=\"text-align: right;\">\n",
       "      <th></th>\n",
       "      <th>Rental Id</th>\n",
       "      <th>Duration</th>\n",
       "      <th>Bike Id</th>\n",
       "      <th>End Date</th>\n",
       "      <th>EndStation Id</th>\n",
       "      <th>EndStation Name</th>\n",
       "      <th>Start Date</th>\n",
       "      <th>StartStation Id</th>\n",
       "      <th>StartStation Name</th>\n",
       "    </tr>\n",
       "  </thead>\n",
       "  <tbody>\n",
       "    <tr>\n",
       "      <th>0</th>\n",
       "      <td>62857677</td>\n",
       "      <td>3780.0</td>\n",
       "      <td>7851</td>\n",
       "      <td>06/03/2017 19:20</td>\n",
       "      <td>43.0</td>\n",
       "      <td>Crawford Street, Marylebone</td>\n",
       "      <td>06/03/2017 18:17</td>\n",
       "      <td>811</td>\n",
       "      <td>Westferry Circus, Canary Wharf</td>\n",
       "    </tr>\n",
       "    <tr>\n",
       "      <th>1</th>\n",
       "      <td>62863035</td>\n",
       "      <td>540.0</td>\n",
       "      <td>4089</td>\n",
       "      <td>06/03/2017 22:17</td>\n",
       "      <td>295.0</td>\n",
       "      <td>Swan Street, The Borough</td>\n",
       "      <td>06/03/2017 22:08</td>\n",
       "      <td>272</td>\n",
       "      <td>Baylis Road, Waterloo</td>\n",
       "    </tr>\n",
       "    <tr>\n",
       "      <th>2</th>\n",
       "      <td>62775896</td>\n",
       "      <td>600.0</td>\n",
       "      <td>4895</td>\n",
       "      <td>02/03/2017 21:27</td>\n",
       "      <td>295.0</td>\n",
       "      <td>Swan Street, The Borough</td>\n",
       "      <td>02/03/2017 21:17</td>\n",
       "      <td>197</td>\n",
       "      <td>Stamford Street, South Bank</td>\n",
       "    </tr>\n",
       "    <tr>\n",
       "      <th>3</th>\n",
       "      <td>62747748</td>\n",
       "      <td>420.0</td>\n",
       "      <td>4347</td>\n",
       "      <td>01/03/2017 21:08</td>\n",
       "      <td>295.0</td>\n",
       "      <td>Swan Street, The Borough</td>\n",
       "      <td>01/03/2017 21:01</td>\n",
       "      <td>803</td>\n",
       "      <td>Southwark Street, Bankside</td>\n",
       "    </tr>\n",
       "    <tr>\n",
       "      <th>4</th>\n",
       "      <td>62843939</td>\n",
       "      <td>420.0</td>\n",
       "      <td>3192</td>\n",
       "      <td>06/03/2017 09:28</td>\n",
       "      <td>193.0</td>\n",
       "      <td>Bankside Mix, Bankside</td>\n",
       "      <td>06/03/2017 09:21</td>\n",
       "      <td>197</td>\n",
       "      <td>Stamford Street, South Bank</td>\n",
       "    </tr>\n",
       "  </tbody>\n",
       "</table>\n",
       "</div>"
      ],
      "text/plain": [
       "   Rental Id  Duration  Bike Id          End Date  EndStation Id  \\\n",
       "0   62857677    3780.0     7851  06/03/2017 19:20           43.0   \n",
       "1   62863035     540.0     4089  06/03/2017 22:17          295.0   \n",
       "2   62775896     600.0     4895  02/03/2017 21:27          295.0   \n",
       "3   62747748     420.0     4347  01/03/2017 21:08          295.0   \n",
       "4   62843939     420.0     3192  06/03/2017 09:28          193.0   \n",
       "\n",
       "               EndStation Name        Start Date  StartStation Id  \\\n",
       "0  Crawford Street, Marylebone  06/03/2017 18:17              811   \n",
       "1     Swan Street, The Borough  06/03/2017 22:08              272   \n",
       "2     Swan Street, The Borough  02/03/2017 21:17              197   \n",
       "3     Swan Street, The Borough  01/03/2017 21:01              803   \n",
       "4       Bankside Mix, Bankside  06/03/2017 09:21              197   \n",
       "\n",
       "                StartStation Name  \n",
       "0  Westferry Circus, Canary Wharf  \n",
       "1           Baylis Road, Waterloo  \n",
       "2     Stamford Street, South Bank  \n",
       "3      Southwark Street, Bankside  \n",
       "4     Stamford Street, South Bank  "
      ]
     },
     "execution_count": 31,
     "metadata": {},
     "output_type": "execute_result"
    }
   ],
   "source": [
    "example_file  = Path(bikefolder) / Path(\"47JourneyDataExtract01Mar2017-07Mar2017.csv\")\n",
    "pd.read_csv(example_file, encoding=\"ISO-8859-2\").head()"
   ]
  },
  {
   "cell_type": "code",
   "execution_count": 37,
   "metadata": {},
   "outputs": [],
   "source": [
    "test_df = pd.read_csv(example_file, encoding=\"ISO-8859-2\")"
   ]
  },
  {
   "cell_type": "code",
   "execution_count": 38,
   "metadata": {},
   "outputs": [
    {
     "data": {
      "text/plain": [
       "(163110, 9)"
      ]
     },
     "execution_count": 38,
     "metadata": {},
     "output_type": "execute_result"
    }
   ],
   "source": [
    "test_df.shape"
   ]
  },
  {
   "cell_type": "code",
   "execution_count": 39,
   "metadata": {},
   "outputs": [
    {
     "data": {
      "text/plain": [
       "Belgrove Street , King's Cross          1834\n",
       "Waterloo Station 3, Waterloo            1744\n",
       "Waterloo Station 1, Waterloo            1052\n",
       "Hyde Park Corner, Hyde Park              881\n",
       "Finsbury Circus, Liverpool Street        822\n",
       "                                        ... \n",
       "Oxford Road, Putney                       22\n",
       "Thornfield House, Poplar                  18\n",
       "Grant Road Central, Clapham Junction      13\n",
       "Castalia Square, Cubitt Town               8\n",
       "Mechanical Workshop Penton                 2\n",
       "Name: StartStation Name, Length: 778, dtype: int64"
      ]
     },
     "execution_count": 39,
     "metadata": {},
     "output_type": "execute_result"
    }
   ],
   "source": [
    "test_df['StartStation Name'].value_counts()"
   ]
  },
  {
   "cell_type": "code",
   "execution_count": 40,
   "metadata": {},
   "outputs": [
    {
     "data": {
      "text/plain": [
       "Belgrove Street , King's Cross       1838\n",
       "Waterloo Station 3, Waterloo         1590\n",
       "Hop Exchange, The Borough            1116\n",
       "Waterloo Station 1, Waterloo         1041\n",
       "Finsbury Circus, Liverpool Street     909\n",
       "                                     ... \n",
       "South Quay East, Canary Wharf          18\n",
       "Aberfeldy Street, Poplar               17\n",
       "St. John's Park, Cubitt Town           16\n",
       "Thornfield House, Poplar               15\n",
       "Mechanical Workshop Penton              5\n",
       "Name: EndStation Name, Length: 778, dtype: int64"
      ]
     },
     "execution_count": 40,
     "metadata": {},
     "output_type": "execute_result"
    }
   ],
   "source": [
    "test_df['EndStation Name'].value_counts()"
   ]
  },
  {
   "cell_type": "code",
   "execution_count": null,
   "metadata": {},
   "outputs": [],
   "source": []
  }
 ],
 "metadata": {
  "kernelspec": {
   "display_name": "geo_env",
   "language": "python",
   "name": "python3"
  },
  "language_info": {
   "codemirror_mode": {
    "name": "ipython",
    "version": 3
   },
   "file_extension": ".py",
   "mimetype": "text/x-python",
   "name": "python",
   "nbconvert_exporter": "python",
   "pygments_lexer": "ipython3",
   "version": "3.11.0"
  },
  "orig_nbformat": 4,
  "vscode": {
   "interpreter": {
    "hash": "4c2ddd453ec399528550f5e7314717da9ccf5717b1d59967b343fe78e183a42e"
   }
  }
 },
 "nbformat": 4,
 "nbformat_minor": 2
}
